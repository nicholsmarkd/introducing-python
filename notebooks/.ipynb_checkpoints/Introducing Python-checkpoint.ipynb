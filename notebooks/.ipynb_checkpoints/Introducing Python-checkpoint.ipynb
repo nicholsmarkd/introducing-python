{
 "cells": [
  {
   "cell_type": "markdown",
   "id": "47bc51cf",
   "metadata": {},
   "source": [
    "## Decorators"
   ]
  },
  {
   "cell_type": "code",
   "execution_count": 91,
   "id": "0b3595c0",
   "metadata": {},
   "outputs": [
    {
     "name": "stdout",
     "output_type": "stream",
     "text": [
      "Running function: get_num\n",
      " Positional Args: (2, 3, 4)\n",
      " Keyword Args: {'var1': 1, 'var2': 2}\n",
      "\n"
     ]
    },
    {
     "data": {
      "text/plain": [
       "16"
      ]
     },
     "execution_count": 91,
     "metadata": {},
     "output_type": "execute_result"
    }
   ],
   "source": [
    "def square_it(func):\n",
    "    def new_func(*args, **kwargs):\n",
    "        result = (func(*args, **kwargs))\n",
    "        return result * result\n",
    "    return new_func\n",
    "\n",
    "def decorate2(func):\n",
    "    def new_func(*args, **kwargs):\n",
    "        result = (func(*args, **kwargs))\n",
    "        return round(result / 2)\n",
    "    return new_func\n",
    "\n",
    "def document_it(func):\n",
    "    def new_function(*args, **kwargs):\n",
    "        print(\n",
    "            f\"Running function: {func.__name__}\\n\",\n",
    "            f\"Positional Args: {args}\\n\",\n",
    "            f\"Keyword Args: {kwargs}\\n\"\n",
    "        )\n",
    "        return func() ** 4\n",
    "    return new_function\n",
    "\n",
    "# @decorate2\n",
    "# @square_it\n",
    "@document_it\n",
    "def get_num(num=2):\n",
    "    return num\n",
    "\n",
    "get_num(2,3,4,var1=1, var2=2)\n"
   ]
  },
  {
   "cell_type": "markdown",
   "id": "5dd0bafc",
   "metadata": {},
   "source": [
    "## Namespaces"
   ]
  },
  {
   "cell_type": "code",
   "execution_count": 128,
   "id": "b7963d71",
   "metadata": {},
   "outputs": [
    {
     "name": "stdout",
     "output_type": "stream",
     "text": [
      "inside 4646253744\n",
      "{'outside': 'inside'}\n"
     ]
    }
   ],
   "source": [
    "outside = 'outside'\n",
    "def func():\n",
    "#     global outside\n",
    "    outside = 'inside'\n",
    "    print(outside, id(outside))\n",
    "#     print(locals() == globals())\n",
    "    print(locals())\n",
    "    \n",
    "func()\n",
    "# locals() == globals()"
   ]
  },
  {
   "cell_type": "markdown",
   "id": "c897d085",
   "metadata": {},
   "source": [
    "## Recursion"
   ]
  },
  {
   "cell_type": "code",
   "execution_count": 138,
   "id": "8a1245af",
   "metadata": {},
   "outputs": [
    {
     "data": {
      "text/plain": [
       "[1, 2, 3, 4, 5, 6, 7, 8, 9]"
      ]
     },
     "execution_count": 138,
     "metadata": {},
     "output_type": "execute_result"
    }
   ],
   "source": [
    "def flatten(lol):\n",
    "    for item in lol:\n",
    "        if isinstance(item, list):\n",
    "            for subitem in flatten(item):\n",
    "                yield subitem\n",
    "        else:\n",
    "            yield item\n",
    "            \n",
    "lol = [1,2,[3,4,5],[6,[7,8,9]]]\n",
    "# list(flatten(lol))\n",
    "\n",
    "def flatten2(lol):\n",
    "    for item in lol:\n",
    "        if isinstance(item, list):\n",
    "            yield from flatten2(item)\n",
    "        else:\n",
    "            yield item\n",
    "            \n",
    "list(flatten2(lol))"
   ]
  },
  {
   "cell_type": "markdown",
   "id": "fd82253a",
   "metadata": {},
   "source": [
    "## Exception Handling"
   ]
  },
  {
   "cell_type": "code",
   "execution_count": 142,
   "id": "42d8efeb",
   "metadata": {},
   "outputs": [
    {
     "ename": "MyException",
     "evalue": "AA",
     "output_type": "error",
     "traceback": [
      "\u001b[0;31m---------------------------------------------------------------------------\u001b[0m",
      "\u001b[0;31mMyException\u001b[0m                               Traceback (most recent call last)",
      "Cell \u001b[0;32mIn [142], line 6\u001b[0m\n\u001b[1;32m      4\u001b[0m word \u001b[38;5;241m=\u001b[39m \u001b[38;5;124m'\u001b[39m\u001b[38;5;124mAA\u001b[39m\u001b[38;5;124m'\u001b[39m\n\u001b[1;32m      5\u001b[0m \u001b[38;5;28;01mif\u001b[39;00m word\u001b[38;5;241m.\u001b[39misupper():\n\u001b[0;32m----> 6\u001b[0m     \u001b[38;5;28;01mraise\u001b[39;00m MyException(word)\n",
      "\u001b[0;31mMyException\u001b[0m: AA"
     ]
    }
   ],
   "source": [
    "class MyException(Exception):\n",
    "    pass\n",
    "\n",
    "word = 'AA'\n",
    "if word.isupper():\n",
    "    raise MyException(word)\n"
   ]
  },
  {
   "cell_type": "code",
   "execution_count": 143,
   "id": "89fc4116",
   "metadata": {},
   "outputs": [
    {
     "name": "stdout",
     "output_type": "stream",
     "text": [
      "abc\n"
     ]
    }
   ],
   "source": [
    "try:\n",
    "    raise MyException('abc')\n",
    "except MyException as e:\n",
    "    print(e)"
   ]
  }
 ],
 "metadata": {
  "kernelspec": {
   "display_name": "Python 3 (ipykernel)",
   "language": "python",
   "name": "python3"
  },
  "language_info": {
   "codemirror_mode": {
    "name": "ipython",
    "version": 3
   },
   "file_extension": ".py",
   "mimetype": "text/x-python",
   "name": "python",
   "nbconvert_exporter": "python",
   "pygments_lexer": "ipython3",
   "version": "3.9.13"
  }
 },
 "nbformat": 4,
 "nbformat_minor": 5
}
