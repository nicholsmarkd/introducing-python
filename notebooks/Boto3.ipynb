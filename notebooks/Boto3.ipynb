{
 "cells": [
  {
   "cell_type": "code",
   "execution_count": 34,
   "id": "e57190ba",
   "metadata": {},
   "outputs": [],
   "source": [
    "import boto3\n",
    "from botocore.exceptions import ClientError\n",
    "import os"
   ]
  },
  {
   "cell_type": "code",
   "execution_count": 32,
   "id": "510a7a34",
   "metadata": {},
   "outputs": [
    {
     "data": {
      "text/plain": [
       "['mdntest-2-499385655729', 'mdntest-499385655729']"
      ]
     },
     "execution_count": 32,
     "metadata": {},
     "output_type": "execute_result"
    }
   ],
   "source": [
    "def list_buckets(filter=''):\n",
    "    s3 = boto3.client('s3')\n",
    "    response = s3.list_buckets()\n",
    "    return [bucket['Name'] for bucket in response['Buckets'] if filter in bucket['Name']]\n",
    "list_buckets('mdn')"
   ]
  },
  {
   "cell_type": "code",
   "execution_count": 33,
   "id": "15c0992b",
   "metadata": {},
   "outputs": [
    {
     "name": "stdout",
     "output_type": "stream",
     "text": [
      "{'ResponseMetadata': {'RequestId': 'H1D94HR0MDDRHXS8', 'HostId': '4Db0U7I9D/J6jGdlsUVyai2cZoBwQPhMPEHre3jr56c4ToSAnXfyJvZnBIat0cp8kt+8sBoELoc=', 'HTTPStatusCode': 200, 'HTTPHeaders': {'x-amz-id-2': '4Db0U7I9D/J6jGdlsUVyai2cZoBwQPhMPEHre3jr56c4ToSAnXfyJvZnBIat0cp8kt+8sBoELoc=', 'x-amz-request-id': 'H1D94HR0MDDRHXS8', 'date': 'Sun, 16 Oct 2022 19:18:29 GMT', 'location': '/mdntest-2-499385655729', 'server': 'AmazonS3', 'content-length': '0'}, 'RetryAttempts': 0}, 'Location': '/mdntest-2-499385655729'}\n"
     ]
    },
    {
     "data": {
      "text/plain": [
       "['mdntest-2-499385655729', 'mdntest-499385655729']"
      ]
     },
     "execution_count": 33,
     "metadata": {},
     "output_type": "execute_result"
    }
   ],
   "source": [
    "def create_bucket(bucket_name = 'mdntest-2-499385655729'):\n",
    "    region = 'us-east-1'\n",
    "    location = {'LocationConstraint': region}\n",
    "    s3 = boto3.client('s3', region)\n",
    "    response = s3.create_bucket(Bucket=bucket_name)\n",
    "    print(response)\n",
    "create_bucket()\n",
    "list_buckets('mdn')"
   ]
  },
  {
   "cell_type": "code",
   "execution_count": 48,
   "id": "cd0333d1",
   "metadata": {},
   "outputs": [
    {
     "name": "stdout",
     "output_type": "stream",
     "text": [
      "None\n"
     ]
    }
   ],
   "source": [
    "def upload_file(file_name, bucket, object_name=None):\n",
    "    if object_name is None:\n",
    "        object_name = os.path.basename(file_name)\n",
    "        \n",
    "    s3 = boto3.client('s3')\n",
    "    response = s3.upload_file(file_name, bucket, object_name)\n",
    "    print(response)\n",
    "\n",
    "upload_file('data/datafile', 'mdntest-499385655729')"
   ]
  },
  {
   "cell_type": "code",
   "execution_count": 49,
   "id": "bb8cce44",
   "metadata": {},
   "outputs": [],
   "source": [
    "def download_file(bucket, object_name, file_name):\n",
    "    s3 = boto3.client('s3')\n",
    "    with open(file_name, 'wb') as f:\n",
    "        s3.download_file(bucket, object_name, file_name)\n",
    "    \n",
    "download_file('mdntest-499385655729', 'datafile', 'data/outfile')\n"
   ]
  },
  {
   "cell_type": "code",
   "execution_count": 52,
   "id": "1b4c6074",
   "metadata": {},
   "outputs": [
    {
     "name": "stdout",
     "output_type": "stream",
     "text": [
      "testdata\r\n"
     ]
    }
   ],
   "source": [
    "cat data/outfile"
   ]
  },
  {
   "cell_type": "code",
   "execution_count": 54,
   "id": "4939c3eb",
   "metadata": {},
   "outputs": [
    {
     "ename": "ClientError",
     "evalue": "An error occurred (NoSuchWebsiteConfiguration) when calling the GetBucketWebsite operation: The specified bucket does not have a website configuration",
     "output_type": "error",
     "traceback": [
      "\u001b[0;31m---------------------------------------------------------------------------\u001b[0m",
      "\u001b[0;31mClientError\u001b[0m                               Traceback (most recent call last)",
      "Cell \u001b[0;32mIn [54], line 2\u001b[0m\n\u001b[1;32m      1\u001b[0m s3 \u001b[38;5;241m=\u001b[39m boto3\u001b[38;5;241m.\u001b[39mclient(\u001b[38;5;124m'\u001b[39m\u001b[38;5;124ms3\u001b[39m\u001b[38;5;124m'\u001b[39m)\n\u001b[0;32m----> 2\u001b[0m result \u001b[38;5;241m=\u001b[39m \u001b[43ms3\u001b[49m\u001b[38;5;241;43m.\u001b[39;49m\u001b[43mget_bucket_website\u001b[49m\u001b[43m(\u001b[49m\u001b[43mBucket\u001b[49m\u001b[38;5;241;43m=\u001b[39;49m\u001b[38;5;124;43m'\u001b[39;49m\u001b[38;5;124;43mmdntest-499385655729\u001b[39;49m\u001b[38;5;124;43m'\u001b[39;49m\u001b[43m)\u001b[49m\n\u001b[1;32m      3\u001b[0m result\n",
      "File \u001b[0;32m~/repos/learn/introducing-python/venv/lib/python3.9/site-packages/botocore/client.py:514\u001b[0m, in \u001b[0;36mClientCreator._create_api_method.<locals>._api_call\u001b[0;34m(self, *args, **kwargs)\u001b[0m\n\u001b[1;32m    510\u001b[0m     \u001b[38;5;28;01mraise\u001b[39;00m \u001b[38;5;167;01mTypeError\u001b[39;00m(\n\u001b[1;32m    511\u001b[0m         \u001b[38;5;124mf\u001b[39m\u001b[38;5;124m\"\u001b[39m\u001b[38;5;132;01m{\u001b[39;00mpy_operation_name\u001b[38;5;132;01m}\u001b[39;00m\u001b[38;5;124m() only accepts keyword arguments.\u001b[39m\u001b[38;5;124m\"\u001b[39m\n\u001b[1;32m    512\u001b[0m     )\n\u001b[1;32m    513\u001b[0m \u001b[38;5;66;03m# The \"self\" in this scope is referring to the BaseClient.\u001b[39;00m\n\u001b[0;32m--> 514\u001b[0m \u001b[38;5;28;01mreturn\u001b[39;00m \u001b[38;5;28;43mself\u001b[39;49m\u001b[38;5;241;43m.\u001b[39;49m\u001b[43m_make_api_call\u001b[49m\u001b[43m(\u001b[49m\u001b[43moperation_name\u001b[49m\u001b[43m,\u001b[49m\u001b[43m \u001b[49m\u001b[43mkwargs\u001b[49m\u001b[43m)\u001b[49m\n",
      "File \u001b[0;32m~/repos/learn/introducing-python/venv/lib/python3.9/site-packages/botocore/client.py:938\u001b[0m, in \u001b[0;36mBaseClient._make_api_call\u001b[0;34m(self, operation_name, api_params)\u001b[0m\n\u001b[1;32m    936\u001b[0m     error_code \u001b[38;5;241m=\u001b[39m parsed_response\u001b[38;5;241m.\u001b[39mget(\u001b[38;5;124m\"\u001b[39m\u001b[38;5;124mError\u001b[39m\u001b[38;5;124m\"\u001b[39m, {})\u001b[38;5;241m.\u001b[39mget(\u001b[38;5;124m\"\u001b[39m\u001b[38;5;124mCode\u001b[39m\u001b[38;5;124m\"\u001b[39m)\n\u001b[1;32m    937\u001b[0m     error_class \u001b[38;5;241m=\u001b[39m \u001b[38;5;28mself\u001b[39m\u001b[38;5;241m.\u001b[39mexceptions\u001b[38;5;241m.\u001b[39mfrom_code(error_code)\n\u001b[0;32m--> 938\u001b[0m     \u001b[38;5;28;01mraise\u001b[39;00m error_class(parsed_response, operation_name)\n\u001b[1;32m    939\u001b[0m \u001b[38;5;28;01melse\u001b[39;00m:\n\u001b[1;32m    940\u001b[0m     \u001b[38;5;28;01mreturn\u001b[39;00m parsed_response\n",
      "\u001b[0;31mClientError\u001b[0m: An error occurred (NoSuchWebsiteConfiguration) when calling the GetBucketWebsite operation: The specified bucket does not have a website configuration"
     ]
    }
   ],
   "source": [
    "s3 = boto3.client('s3')\n",
    "result = s3.get_bucket_website(Bucket='mdntest-499385655729')\n",
    "result"
   ]
  }
 ],
 "metadata": {
  "kernelspec": {
   "display_name": "Python 3 (ipykernel)",
   "language": "python",
   "name": "python3"
  },
  "language_info": {
   "codemirror_mode": {
    "name": "ipython",
    "version": 3
   },
   "file_extension": ".py",
   "mimetype": "text/x-python",
   "name": "python",
   "nbconvert_exporter": "python",
   "pygments_lexer": "ipython3",
   "version": "3.9.13"
  }
 },
 "nbformat": 4,
 "nbformat_minor": 5
}
