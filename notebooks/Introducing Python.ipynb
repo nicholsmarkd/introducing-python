{
 "cells": [
  {
   "cell_type": "markdown",
   "id": "27c538ee",
   "metadata": {},
   "source": [
    "## Decorators"
   ]
  },
  {
   "cell_type": "code",
   "execution_count": 91,
   "id": "ae6e1104",
   "metadata": {},
   "outputs": [
    {
     "name": "stdout",
     "output_type": "stream",
     "text": [
      "Running function: get_num\n",
      " Positional Args: (2, 3, 4)\n",
      " Keyword Args: {'var1': 1, 'var2': 2}\n",
      "\n"
     ]
    },
    {
     "data": {
      "text/plain": [
       "16"
      ]
     },
     "execution_count": 91,
     "metadata": {},
     "output_type": "execute_result"
    }
   ],
   "source": [
    "def square_it(func):\n",
    "    def new_func(*args, **kwargs):\n",
    "        result = (func(*args, **kwargs))\n",
    "        return result * result\n",
    "    return new_func\n",
    "\n",
    "def decorate2(func):\n",
    "    def new_func(*args, **kwargs):\n",
    "        result = (func(*args, **kwargs))\n",
    "        return round(result / 2)\n",
    "    return new_func\n",
    "\n",
    "def document_it(func):\n",
    "    def new_function(*args, **kwargs):\n",
    "        print(\n",
    "            f\"Running function: {func.__name__}\\n\",\n",
    "            f\"Positional Args: {args}\\n\",\n",
    "            f\"Keyword Args: {kwargs}\\n\"\n",
    "        )\n",
    "        return func() ** 4\n",
    "    return new_function\n",
    "\n",
    "# @decorate2\n",
    "# @square_it\n",
    "@document_it\n",
    "def get_num(num=2):\n",
    "    return num\n",
    "\n",
    "get_num(2,3,4,var1=1, var2=2)\n"
   ]
  },
  {
   "cell_type": "markdown",
   "id": "199b81e3",
   "metadata": {},
   "source": [
    "## Namespaces"
   ]
  },
  {
   "cell_type": "code",
   "execution_count": 128,
   "id": "0a2f9feb",
   "metadata": {},
   "outputs": [
    {
     "name": "stdout",
     "output_type": "stream",
     "text": [
      "inside 4646253744\n",
      "{'outside': 'inside'}\n"
     ]
    }
   ],
   "source": [
    "outside = 'outside'\n",
    "def func():\n",
    "#     global outside\n",
    "    outside = 'inside'\n",
    "    print(outside, id(outside))\n",
    "#     print(locals() == globals())\n",
    "    print(locals())\n",
    "    \n",
    "func()\n",
    "# locals() == globals()"
   ]
  },
  {
   "cell_type": "markdown",
   "id": "f011af66",
   "metadata": {},
   "source": [
    "## Recursion"
   ]
  },
  {
   "cell_type": "code",
   "execution_count": 138,
   "id": "c20442f7",
   "metadata": {},
   "outputs": [
    {
     "data": {
      "text/plain": [
       "[1, 2, 3, 4, 5, 6, 7, 8, 9]"
      ]
     },
     "execution_count": 138,
     "metadata": {},
     "output_type": "execute_result"
    }
   ],
   "source": [
    "def flatten(lol):\n",
    "    for item in lol:\n",
    "        if isinstance(item, list):\n",
    "            for subitem in flatten(item):\n",
    "                yield subitem\n",
    "        else:\n",
    "            yield item\n",
    "            \n",
    "lol = [1,2,[3,4,5],[6,[7,8,9]]]\n",
    "# list(flatten(lol))\n",
    "\n",
    "def flatten2(lol):\n",
    "    for item in lol:\n",
    "        if isinstance(item, list):\n",
    "            yield from flatten2(item)\n",
    "        else:\n",
    "            yield item\n",
    "            \n",
    "list(flatten2(lol))"
   ]
  },
  {
   "cell_type": "markdown",
   "id": "b2226d81",
   "metadata": {},
   "source": [
    "## Exception Handling"
   ]
  },
  {
   "cell_type": "code",
   "execution_count": 142,
   "id": "7a13eade",
   "metadata": {},
   "outputs": [
    {
     "ename": "MyException",
     "evalue": "AA",
     "output_type": "error",
     "traceback": [
      "\u001b[0;31m---------------------------------------------------------------------------\u001b[0m",
      "\u001b[0;31mMyException\u001b[0m                               Traceback (most recent call last)",
      "Cell \u001b[0;32mIn [142], line 6\u001b[0m\n\u001b[1;32m      4\u001b[0m word \u001b[38;5;241m=\u001b[39m \u001b[38;5;124m'\u001b[39m\u001b[38;5;124mAA\u001b[39m\u001b[38;5;124m'\u001b[39m\n\u001b[1;32m      5\u001b[0m \u001b[38;5;28;01mif\u001b[39;00m word\u001b[38;5;241m.\u001b[39misupper():\n\u001b[0;32m----> 6\u001b[0m     \u001b[38;5;28;01mraise\u001b[39;00m MyException(word)\n",
      "\u001b[0;31mMyException\u001b[0m: AA"
     ]
    }
   ],
   "source": [
    "class MyException(Exception):\n",
    "    pass\n",
    "\n",
    "word = 'AA'\n",
    "if word.isupper():\n",
    "    raise MyException(word)\n"
   ]
  },
  {
   "cell_type": "code",
   "execution_count": 144,
   "id": "82ff5237",
   "metadata": {},
   "outputs": [
    {
     "name": "stdout",
     "output_type": "stream",
     "text": [
      "abc\n"
     ]
    }
   ],
   "source": [
    "try:\n",
    "    raise MyException('abc')\n",
    "except MyException as e:\n",
    "    print(e)"
   ]
  },
  {
   "cell_type": "markdown",
   "id": "b5028eb0",
   "metadata": {},
   "source": [
    "# Objects"
   ]
  },
  {
   "cell_type": "code",
   "execution_count": 157,
   "id": "98995fc4",
   "metadata": {},
   "outputs": [
    {
     "data": {
      "text/plain": [
       "False"
      ]
     },
     "execution_count": 157,
     "metadata": {},
     "output_type": "execute_result"
    }
   ],
   "source": [
    "class Cat():\n",
    "    def __init__(self, name):\n",
    "        self.name = name\n",
    "\n",
    "acat = Cat('Tiger')\n",
    "acat2 = Cat('Fluffy')\n",
    "acat == acat2"
   ]
  },
  {
   "cell_type": "code",
   "execution_count": 158,
   "id": "44a5495b",
   "metadata": {},
   "outputs": [
    {
     "data": {
      "text/plain": [
       "<__main__.Cat at 0x114308f10>"
      ]
     },
     "execution_count": 158,
     "metadata": {},
     "output_type": "execute_result"
    }
   ],
   "source": [
    "acat.age = 3\n",
    "acat.name = 'Tiger'\n",
    "acat"
   ]
  },
  {
   "cell_type": "markdown",
   "id": "cafbbbf0",
   "metadata": {},
   "source": [
    "## inheritance"
   ]
  },
  {
   "cell_type": "code",
   "execution_count": 169,
   "id": "9d5b7ac1",
   "metadata": {},
   "outputs": [
    {
     "name": "stdout",
     "output_type": "stream",
     "text": [
      "I'm a Car!\n",
      "I'm a Yugo!\n",
      "unchanged method\n",
      "new method\n"
     ]
    }
   ],
   "source": [
    "class Car():\n",
    "    def exclaim(self):\n",
    "        print(\"I'm a Car!\")\n",
    "    def exclaim2(self):\n",
    "        print(\"unchanged method\")\n",
    "\n",
    "class Yugo(Car):\n",
    "    def exclaim(self):\n",
    "        print(\"I'm a Yugo!\")\n",
    "    def new_method(self):\n",
    "        print(\"new method\")\n",
    "\n",
    "issubclass(Yugo,Car)\n",
    "\n",
    "car = Car()\n",
    "yugo = Yugo()\n",
    "car.exclaim()\n",
    "yugo.exclaim()\n",
    "yugo.exclaim2()\n",
    "yugo.new_method()"
   ]
  },
  {
   "cell_type": "code",
   "execution_count": 174,
   "id": "7d8875d8",
   "metadata": {},
   "outputs": [
    {
     "data": {
      "text/plain": [
       "'bot@mail.mil'"
      ]
     },
     "execution_count": 174,
     "metadata": {},
     "output_type": "execute_result"
    }
   ],
   "source": [
    "# super \n",
    "class Person():\n",
    "    def __init__(self,name):\n",
    "        self.name = name\n",
    "class EmailPerson(Person):\n",
    "    def __init__(self, name, email):\n",
    "        super().__init__(name)\n",
    "        self.email = email\n",
    "        \n",
    "email_person = EmailPerson('Bob','bot@mail.mil')\n",
    "email_person.email"
   ]
  },
  {
   "cell_type": "code",
   "execution_count": 187,
   "id": "2d29ffdf",
   "metadata": {},
   "outputs": [
    {
     "data": {
      "text/plain": [
       "'I speak'"
      ]
     },
     "execution_count": 187,
     "metadata": {},
     "output_type": "execute_result"
    }
   ],
   "source": [
    "# multiple inheritance\n",
    "class Animal:\n",
    "    def says(self):\n",
    "        return 'I speak'\n",
    "class Dog(Animal):\n",
    "    def says(self):\n",
    "        return 'I bark'\n",
    "class BigDog(Animal):\n",
    "    def says(self):\n",
    "        return 'I bark loud!'\n",
    "class Mutt(Dog, BigDog):\n",
    "    pass\n",
    "mutt = Mutt()\n",
    "mutt.says()\n",
    "    "
   ]
  }
 ],
 "metadata": {
  "kernelspec": {
   "display_name": "Python 3 (ipykernel)",
   "language": "python",
   "name": "python3"
  },
  "language_info": {
   "codemirror_mode": {
    "name": "ipython",
    "version": 3
   },
   "file_extension": ".py",
   "mimetype": "text/x-python",
   "name": "python",
   "nbconvert_exporter": "python",
   "pygments_lexer": "ipython3",
   "version": "3.9.13"
  }
 },
 "nbformat": 4,
 "nbformat_minor": 5
}
